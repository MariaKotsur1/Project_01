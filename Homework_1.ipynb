{
  "nbformat": 4,
  "nbformat_minor": 0,
  "metadata": {
    "colab": {
      "provenance": []
    },
    "kernelspec": {
      "name": "python3",
      "display_name": "Python 3"
    },
    "language_info": {
      "name": "python"
    }
  },
  "cells": [
    {
      "cell_type": "markdown",
      "source": [
        "# Задача 1.1.\n",
        "\n",
        "# Есть строка с перечислением песен\n",
        "\n",
        "my_favorite_songs = 'Waste a Moment, Staying\\' Alive, A Sorta Fairytale, Start Me Up, New Salvation'\n",
        "\n",
        "# Выведите на консоль с помощью индексации строки, последовательно: первый трек, последний, второй, второй с конца\n",
        "# Нельзя переопределять my_favorite_songs и запятая не должна выводиться."
      ],
      "metadata": {
        "id": "lIajKqSc7b-H"
      }
    },
    {
      "cell_type": "code",
      "source": [
        "my_favorite_songs = \"'Waste a Moment, Staying' Alive, A Sorta Fairytale, Start Me Up, New Salvation'\"\n",
        "print(my_favorite_songs [1: 15]), \n",
        "print (my_favorite_songs [65: 78])\n",
        "print(my_favorite_songs [17:24] + my_favorite_songs [25] + my_favorite_songs [26: 31])\n",
        "print (my_favorite_songs [52: 63])"
      ],
      "metadata": {
        "id": "VOeB1kZfBGG7",
        "colab": {
          "base_uri": "https://localhost:8080/"
        },
        "outputId": "44fc917e-d39c-4d08-e232-0310834feb07"
      },
      "execution_count": null,
      "outputs": [
        {
          "output_type": "stream",
          "name": "stdout",
          "text": [
            "Waste a Moment\n",
            "New Salvation\n",
            "Staying Alive\n",
            "Start Me Up\n"
          ]
        }
      ]
    }
  ]
}